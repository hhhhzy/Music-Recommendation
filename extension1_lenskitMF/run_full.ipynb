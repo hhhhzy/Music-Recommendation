{
 "cells": [
  {
   "cell_type": "markdown",
   "id": "hybrid-velvet",
   "metadata": {},
   "source": [
    "# Run on the full dataset"
   ]
  },
  {
   "cell_type": "markdown",
   "id": "southern-layout",
   "metadata": {},
   "source": [
    "## Setting up environment"
   ]
  },
  {
   "cell_type": "code",
   "execution_count": 1,
   "id": "casual-dealer",
   "metadata": {
    "tags": []
   },
   "outputs": [],
   "source": [
    "import os\n",
    "from glob import glob\n",
    "\n",
    "import dask\n",
    "import dask.bag as db\n",
    "import dask.dataframe as dd\n",
    "from distributed import Client\n",
    "from dask_jobqueue import SLURMCluster\n",
    "\n",
    "from IPython.display import display\n",
    "import matplotlib.pyplot as plt\n",
    "\n",
    "import logging\n",
    "import pickle\n",
    "\n",
    "from lenskit.batch import MultiEval, predict, recommend\n",
    "from lenskit.crossfold import partition_users, SampleN\n",
    "from lenskit.algorithms import basic, als, svd, bias\n",
    "from lenskit import topn, util, Recommender, batch\n",
    "from lenskit.topn import precision, ndcg, recall\n",
    "\n",
    "import pandas as pd\n",
    "import numpy as np\n",
    "from scipy import stats\n",
    "import binpickle\n",
    "\n",
    "import argparse\n",
    "import time\n",
    "\n",
    "from tqdm.auto import tqdm"
   ]
  },
  {
   "cell_type": "code",
   "execution_count": 2,
   "id": "automated-channel",
   "metadata": {},
   "outputs": [
    {
     "name": "stderr",
     "output_type": "stream",
     "text": [
      "/ext3/miniconda3/lib/python3.8/site-packages/distributed/node.py:151: UserWarning: Port 8787 is already in use.\n",
      "Perhaps you already have a cluster running?\n",
      "Hosting the HTTP server on port 43215 instead\n",
      "  warnings.warn(\n"
     ]
    },
    {
     "data": {
      "text/html": [
       "<table style=\"border: 2px solid white;\">\n",
       "<tr>\n",
       "<td style=\"vertical-align: top; border: 0px solid white\">\n",
       "<h3 style=\"text-align: left;\">Client</h3>\n",
       "<ul style=\"text-align: left; list-style: none; margin: 0; padding: 0;\">\n",
       "  <li><b>Scheduler: </b>tcp://127.0.0.1:34013</li>\n",
       "  <li><b>Dashboard: </b><a href='http://127.0.0.1:43215/status' target='_blank'>http://127.0.0.1:43215/status</a></li>\n",
       "</ul>\n",
       "</td>\n",
       "<td style=\"vertical-align: top; border: 0px solid white\">\n",
       "<h3 style=\"text-align: left;\">Cluster</h3>\n",
       "<ul style=\"text-align: left; list-style:none; margin: 0; padding: 0;\">\n",
       "  <li><b>Workers: </b>1</li>\n",
       "  <li><b>Cores: </b>1</li>\n",
       "  <li><b>Memory: </b>17.18 GB</li>\n",
       "</ul>\n",
       "</td>\n",
       "</tr>\n",
       "</table>"
      ],
      "text/plain": [
       "<Client: 'tcp://127.0.0.1:34013' processes=1 threads=1, memory=17.18 GB>"
      ]
     },
     "metadata": {},
     "output_type": "display_data"
    }
   ],
   "source": [
    "# Set LOCAL to True for single-machine execution while developing\n",
    "# Set LOCAL to False for cluster execution\n",
    "LOCAL = True\n",
    "\n",
    "if LOCAL:\n",
    "    # This line creates a single-machine dask client\n",
    "    client = Client()\n",
    "else:    \n",
    "    # This line creates a SLURM cluster dask and dask client\n",
    "    # Logging outputs will be stored in /scratch/{your-netid}\n",
    "    \n",
    "    cluster = SLURMCluster(memory='4GB', cores=2, python='/scratch/work/public/dask/bin/python', \n",
    "                               local_directory='/tmp/{}/'.format(os.environ['SLURM_JOB_USER']),\n",
    "                               job_extra=['--output=/scratch/{}/slurm-%j.out'.format(os.environ['SLURM_JOB_USER'])])\n",
    "\n",
    "    cluster.submit_command = 'slurm'\n",
    "    cluster.scale(100)\n",
    "\n",
    "    display(cluster)\n",
    "    client = Client(cluster)\n",
    "\n",
    "display(client)"
   ]
  },
  {
   "cell_type": "markdown",
   "id": "convertible-armor",
   "metadata": {},
   "source": [
    "## Load data"
   ]
  },
  {
   "cell_type": "code",
   "execution_count": 3,
   "id": "fitting-tanzania",
   "metadata": {},
   "outputs": [],
   "source": [
    "# use the 100 subtrain version for tuning\n",
    "train_dir = '/scratch/zh2095/quarantini/cf_train.parquet'\n",
    "test_dir = '/scratch/zh2095/quarantini/cf_val.parquet'"
   ]
  },
  {
   "cell_type": "code",
   "execution_count": 4,
   "id": "wanted-stage",
   "metadata": {
    "tags": []
   },
   "outputs": [
    {
     "name": "stdout",
     "output_type": "stream",
     "text": [
      "took 33.674726 s\n"
     ]
    }
   ],
   "source": [
    "start = time.time()\n",
    "\n",
    "df_train = pd.read_parquet(train_dir)\n",
    "df_test = pd.read_parquet(test_dir)\n",
    "\n",
    "print('took %f s'%(time.time()-start))"
   ]
  },
  {
   "cell_type": "code",
   "execution_count": 5,
   "id": "accredited-sound",
   "metadata": {},
   "outputs": [],
   "source": [
    "df_train.rename(columns = {'user_id':'user', 'track_id':'item', 'count':'rating'}, inplace = True)\n",
    "df_test.rename(columns = {'user_id':'user', 'track_id':'item', 'count':'rating'}, inplace = True)"
   ]
  },
  {
   "cell_type": "code",
   "execution_count": 6,
   "id": "flexible-voluntary",
   "metadata": {},
   "outputs": [],
   "source": [
    "df_train.reset_index(drop=True, inplace=True)"
   ]
  },
  {
   "cell_type": "code",
   "execution_count": 7,
   "id": "charming-simon",
   "metadata": {},
   "outputs": [
    {
     "data": {
      "text/html": [
       "<div>\n",
       "<style scoped>\n",
       "    .dataframe tbody tr th:only-of-type {\n",
       "        vertical-align: middle;\n",
       "    }\n",
       "\n",
       "    .dataframe tbody tr th {\n",
       "        vertical-align: top;\n",
       "    }\n",
       "\n",
       "    .dataframe thead th {\n",
       "        text-align: right;\n",
       "    }\n",
       "</style>\n",
       "<table border=\"1\" class=\"dataframe\">\n",
       "  <thead>\n",
       "    <tr style=\"text-align: right;\">\n",
       "      <th></th>\n",
       "      <th>user</th>\n",
       "      <th>rating</th>\n",
       "      <th>item</th>\n",
       "    </tr>\n",
       "  </thead>\n",
       "  <tbody>\n",
       "    <tr>\n",
       "      <th>0</th>\n",
       "      <td>b80344d063b5ccb3212f76538f3d9e43d87dca9e</td>\n",
       "      <td>1</td>\n",
       "      <td>TRIQAUQ128F42435AD</td>\n",
       "    </tr>\n",
       "    <tr>\n",
       "      <th>1</th>\n",
       "      <td>b80344d063b5ccb3212f76538f3d9e43d87dca9e</td>\n",
       "      <td>1</td>\n",
       "      <td>TRIRLYL128F42539D1</td>\n",
       "    </tr>\n",
       "    <tr>\n",
       "      <th>2</th>\n",
       "      <td>b80344d063b5ccb3212f76538f3d9e43d87dca9e</td>\n",
       "      <td>2</td>\n",
       "      <td>TRMHBXZ128F4238406</td>\n",
       "    </tr>\n",
       "    <tr>\n",
       "      <th>3</th>\n",
       "      <td>b80344d063b5ccb3212f76538f3d9e43d87dca9e</td>\n",
       "      <td>1</td>\n",
       "      <td>TRYQMNI128F147C1C7</td>\n",
       "    </tr>\n",
       "    <tr>\n",
       "      <th>4</th>\n",
       "      <td>b80344d063b5ccb3212f76538f3d9e43d87dca9e</td>\n",
       "      <td>1</td>\n",
       "      <td>TRAHZNE128F9341B86</td>\n",
       "    </tr>\n",
       "    <tr>\n",
       "      <th>...</th>\n",
       "      <td>...</td>\n",
       "      <td>...</td>\n",
       "      <td>...</td>\n",
       "    </tr>\n",
       "    <tr>\n",
       "      <th>49824514</th>\n",
       "      <td>ffff07d7d9bb187aa58c7b81b3d3f35e7cf7c0ee</td>\n",
       "      <td>5</td>\n",
       "      <td>TRCAQLO128F4284DD0</td>\n",
       "    </tr>\n",
       "    <tr>\n",
       "      <th>49824515</th>\n",
       "      <td>ffff07d7d9bb187aa58c7b81b3d3f35e7cf7c0ee</td>\n",
       "      <td>1</td>\n",
       "      <td>TRLIWUN128F145D610</td>\n",
       "    </tr>\n",
       "    <tr>\n",
       "      <th>49824516</th>\n",
       "      <td>ffff07d7d9bb187aa58c7b81b3d3f35e7cf7c0ee</td>\n",
       "      <td>25</td>\n",
       "      <td>TRXFYCU128F4258741</td>\n",
       "    </tr>\n",
       "    <tr>\n",
       "      <th>49824517</th>\n",
       "      <td>ffff07d7d9bb187aa58c7b81b3d3f35e7cf7c0ee</td>\n",
       "      <td>1</td>\n",
       "      <td>TRBHKVD128F146F758</td>\n",
       "    </tr>\n",
       "    <tr>\n",
       "      <th>49824518</th>\n",
       "      <td>ffff07d7d9bb187aa58c7b81b3d3f35e7cf7c0ee</td>\n",
       "      <td>1</td>\n",
       "      <td>TROXXYE128F4267245</td>\n",
       "    </tr>\n",
       "  </tbody>\n",
       "</table>\n",
       "<p>49824519 rows × 3 columns</p>\n",
       "</div>"
      ],
      "text/plain": [
       "                                              user  rating                item\n",
       "0         b80344d063b5ccb3212f76538f3d9e43d87dca9e       1  TRIQAUQ128F42435AD\n",
       "1         b80344d063b5ccb3212f76538f3d9e43d87dca9e       1  TRIRLYL128F42539D1\n",
       "2         b80344d063b5ccb3212f76538f3d9e43d87dca9e       2  TRMHBXZ128F4238406\n",
       "3         b80344d063b5ccb3212f76538f3d9e43d87dca9e       1  TRYQMNI128F147C1C7\n",
       "4         b80344d063b5ccb3212f76538f3d9e43d87dca9e       1  TRAHZNE128F9341B86\n",
       "...                                            ...     ...                 ...\n",
       "49824514  ffff07d7d9bb187aa58c7b81b3d3f35e7cf7c0ee       5  TRCAQLO128F4284DD0\n",
       "49824515  ffff07d7d9bb187aa58c7b81b3d3f35e7cf7c0ee       1  TRLIWUN128F145D610\n",
       "49824516  ffff07d7d9bb187aa58c7b81b3d3f35e7cf7c0ee      25  TRXFYCU128F4258741\n",
       "49824517  ffff07d7d9bb187aa58c7b81b3d3f35e7cf7c0ee       1  TRBHKVD128F146F758\n",
       "49824518  ffff07d7d9bb187aa58c7b81b3d3f35e7cf7c0ee       1  TROXXYE128F4267245\n",
       "\n",
       "[49824519 rows x 3 columns]"
      ]
     },
     "execution_count": 7,
     "metadata": {},
     "output_type": "execute_result"
    }
   ],
   "source": [
    "# take a look at the full dataset\n",
    "df_train"
   ]
  },
  {
   "cell_type": "markdown",
   "id": "regional-tuition",
   "metadata": {},
   "source": [
    "# Plots and further tune on features"
   ]
  },
  {
   "cell_type": "code",
   "execution_count": 70,
   "id": "owned-point",
   "metadata": {},
   "outputs": [],
   "source": [
    "feature_set = [10, 20, 50, 100]\n",
    "reg = 1\n",
    "weight = 10\n",
    "iterations = 20\n",
    "use_ratings = True\n",
    "\n",
    "data = (df_train, df_test)"
   ]
  },
  {
   "cell_type": "code",
   "execution_count": 9,
   "id": "smooth-emerald",
   "metadata": {},
   "outputs": [
    {
     "name": "stderr",
     "output_type": "stream",
     "text": [
      "initializing deprecated MultiEval\n"
     ]
    },
    {
     "data": {
      "application/vnd.jupyter.widget-view+json": {
       "model_id": "56a5cf5b14a04c1aa8ab6365dca2d632",
       "version_major": 2,
       "version_minor": 0
      },
      "text/plain": [
       "  0%|          | 0/4 [00:00<?, ?it/s]"
      ]
     },
     "metadata": {},
     "output_type": "display_data"
    },
    {
     "data": {
      "application/vnd.jupyter.widget-view+json": {
       "model_id": "",
       "version_major": 2,
       "version_minor": 0
      },
      "text/plain": [
       "ImplicitMF:   0%|          | 0/20 [00:00<?, ?it/s]"
      ]
     },
     "metadata": {},
     "output_type": "display_data"
    },
    {
     "data": {
      "application/vnd.jupyter.widget-view+json": {
       "model_id": "",
       "version_major": 2,
       "version_minor": 0
      },
      "text/plain": [
       "ImplicitMF:   0%|          | 0/20 [00:00<?, ?it/s]"
      ]
     },
     "metadata": {},
     "output_type": "display_data"
    },
    {
     "data": {
      "application/vnd.jupyter.widget-view+json": {
       "model_id": "",
       "version_major": 2,
       "version_minor": 0
      },
      "text/plain": [
       "ImplicitMF:   0%|          | 0/20 [00:00<?, ?it/s]"
      ]
     },
     "metadata": {},
     "output_type": "display_data"
    },
    {
     "data": {
      "application/vnd.jupyter.widget-view+json": {
       "model_id": "",
       "version_major": 2,
       "version_minor": 0
      },
      "text/plain": [
       "ImplicitMF:   0%|          | 0/20 [00:00<?, ?it/s]"
      ]
     },
     "metadata": {},
     "output_type": "display_data"
    }
   ],
   "source": [
    "eval = MultiEval('result_full', recommend=500, save_models=False)  #set save_models=True when running on the full dataset\n",
    "eval.add_datasets(data, name='Song')   \n",
    "\n",
    "ALS = [als.ImplicitMF(features=f, iterations=iterations, reg=reg, weight=weight, use_ratings=use_ratings, method='cg', progress=tqdm) \n",
    "                        for f in feature_set]\n",
    "\n",
    "eval.add_algorithms(ALS, attrs=['features'], name='ImplicitMF')\n",
    "\n",
    "eval.run(progress = tqdm)"
   ]
  },
  {
   "cell_type": "code",
   "execution_count": 64,
   "id": "pharmaceutical-indication",
   "metadata": {},
   "outputs": [
    {
     "data": {
      "text/html": [
       "<div>\n",
       "<style scoped>\n",
       "    .dataframe tbody tr th:only-of-type {\n",
       "        vertical-align: middle;\n",
       "    }\n",
       "\n",
       "    .dataframe tbody tr th {\n",
       "        vertical-align: top;\n",
       "    }\n",
       "\n",
       "    .dataframe thead th {\n",
       "        text-align: right;\n",
       "    }\n",
       "</style>\n",
       "<table border=\"1\" class=\"dataframe\">\n",
       "  <thead>\n",
       "    <tr style=\"text-align: right;\">\n",
       "      <th></th>\n",
       "      <th>DataSet</th>\n",
       "      <th>AlgoClass</th>\n",
       "      <th>AlgoStr</th>\n",
       "      <th>name</th>\n",
       "      <th>features</th>\n",
       "      <th>TrainTime</th>\n",
       "      <th>PredTime</th>\n",
       "      <th>RecTime</th>\n",
       "    </tr>\n",
       "    <tr>\n",
       "      <th>RunId</th>\n",
       "      <th></th>\n",
       "      <th></th>\n",
       "      <th></th>\n",
       "      <th></th>\n",
       "      <th></th>\n",
       "      <th></th>\n",
       "      <th></th>\n",
       "      <th></th>\n",
       "    </tr>\n",
       "  </thead>\n",
       "  <tbody>\n",
       "    <tr>\n",
       "      <th>1</th>\n",
       "      <td>Song</td>\n",
       "      <td>ImplicitMF</td>\n",
       "      <td>als.ImplicitMF(features=10, reg=1, w=10)</td>\n",
       "      <td>ImplicitMF</td>\n",
       "      <td>10</td>\n",
       "      <td>561.432177</td>\n",
       "      <td>40.766977</td>\n",
       "      <td>1650.955631</td>\n",
       "    </tr>\n",
       "    <tr>\n",
       "      <th>2</th>\n",
       "      <td>Song</td>\n",
       "      <td>ImplicitMF</td>\n",
       "      <td>als.ImplicitMF(features=20, reg=1, w=10)</td>\n",
       "      <td>ImplicitMF</td>\n",
       "      <td>20</td>\n",
       "      <td>572.794609</td>\n",
       "      <td>38.163735</td>\n",
       "      <td>1634.182680</td>\n",
       "    </tr>\n",
       "    <tr>\n",
       "      <th>3</th>\n",
       "      <td>Song</td>\n",
       "      <td>ImplicitMF</td>\n",
       "      <td>als.ImplicitMF(features=50, reg=1, w=10)</td>\n",
       "      <td>ImplicitMF</td>\n",
       "      <td>50</td>\n",
       "      <td>854.963907</td>\n",
       "      <td>39.713855</td>\n",
       "      <td>2058.651239</td>\n",
       "    </tr>\n",
       "    <tr>\n",
       "      <th>4</th>\n",
       "      <td>Song</td>\n",
       "      <td>ImplicitMF</td>\n",
       "      <td>als.ImplicitMF(features=100, reg=1, w=10)</td>\n",
       "      <td>ImplicitMF</td>\n",
       "      <td>100</td>\n",
       "      <td>1319.579091</td>\n",
       "      <td>40.797067</td>\n",
       "      <td>2640.018421</td>\n",
       "    </tr>\n",
       "  </tbody>\n",
       "</table>\n",
       "</div>"
      ],
      "text/plain": [
       "      DataSet   AlgoClass                                    AlgoStr  \\\n",
       "RunId                                                                  \n",
       "1        Song  ImplicitMF   als.ImplicitMF(features=10, reg=1, w=10)   \n",
       "2        Song  ImplicitMF   als.ImplicitMF(features=20, reg=1, w=10)   \n",
       "3        Song  ImplicitMF   als.ImplicitMF(features=50, reg=1, w=10)   \n",
       "4        Song  ImplicitMF  als.ImplicitMF(features=100, reg=1, w=10)   \n",
       "\n",
       "             name  features    TrainTime   PredTime      RecTime  \n",
       "RunId                                                             \n",
       "1      ImplicitMF        10   561.432177  40.766977  1650.955631  \n",
       "2      ImplicitMF        20   572.794609  38.163735  1634.182680  \n",
       "3      ImplicitMF        50   854.963907  39.713855  2058.651239  \n",
       "4      ImplicitMF       100  1319.579091  40.797067  2640.018421  "
      ]
     },
     "execution_count": 64,
     "metadata": {},
     "output_type": "execute_result"
    }
   ],
   "source": [
    "runs_test = pd.read_csv('result_full/runs.csv')\n",
    "runs_test.set_index('RunId', inplace=True)\n",
    "runs_test.head()"
   ]
  },
  {
   "cell_type": "code",
   "execution_count": 65,
   "id": "romantic-journalism",
   "metadata": {},
   "outputs": [],
   "source": [
    "recs_test = pd.read_parquet('result_full/recommendations.parquet')"
   ]
  },
  {
   "cell_type": "code",
   "execution_count": 66,
   "id": "binary-sugar",
   "metadata": {},
   "outputs": [
    {
     "data": {
      "text/html": [
       "<div>\n",
       "<style scoped>\n",
       "    .dataframe tbody tr th:only-of-type {\n",
       "        vertical-align: middle;\n",
       "    }\n",
       "\n",
       "    .dataframe tbody tr th {\n",
       "        vertical-align: top;\n",
       "    }\n",
       "\n",
       "    .dataframe thead th {\n",
       "        text-align: right;\n",
       "    }\n",
       "</style>\n",
       "<table border=\"1\" class=\"dataframe\">\n",
       "  <thead>\n",
       "    <tr style=\"text-align: right;\">\n",
       "      <th></th>\n",
       "      <th></th>\n",
       "      <th>nrecs</th>\n",
       "      <th>precision</th>\n",
       "      <th>ndcg</th>\n",
       "      <th>recall</th>\n",
       "      <th>features</th>\n",
       "      <th>TrainTime</th>\n",
       "      <th>RecTime</th>\n",
       "    </tr>\n",
       "    <tr>\n",
       "      <th>RunId</th>\n",
       "      <th>user</th>\n",
       "      <th></th>\n",
       "      <th></th>\n",
       "      <th></th>\n",
       "      <th></th>\n",
       "      <th></th>\n",
       "      <th></th>\n",
       "      <th></th>\n",
       "    </tr>\n",
       "  </thead>\n",
       "  <tbody>\n",
       "    <tr>\n",
       "      <th rowspan=\"5\" valign=\"top\">1</th>\n",
       "      <th>0007140a3796e901f3190f12e9de6d7548d4ac4a</th>\n",
       "      <td>500</td>\n",
       "      <td>0.006</td>\n",
       "      <td>0.043436</td>\n",
       "      <td>0.157895</td>\n",
       "      <td>10</td>\n",
       "      <td>561.432177</td>\n",
       "      <td>1650.955631</td>\n",
       "    </tr>\n",
       "    <tr>\n",
       "      <th>000b22f91d4992dba3a80025493059f972a7850e</th>\n",
       "      <td>500</td>\n",
       "      <td>0.000</td>\n",
       "      <td>0.000000</td>\n",
       "      <td>0.000000</td>\n",
       "      <td>10</td>\n",
       "      <td>561.432177</td>\n",
       "      <td>1650.955631</td>\n",
       "    </tr>\n",
       "    <tr>\n",
       "      <th>001eed159e8a038e5c5c63fe439ea5acead124f4</th>\n",
       "      <td>500</td>\n",
       "      <td>0.012</td>\n",
       "      <td>0.283271</td>\n",
       "      <td>1.000000</td>\n",
       "      <td>10</td>\n",
       "      <td>561.432177</td>\n",
       "      <td>1650.955631</td>\n",
       "    </tr>\n",
       "    <tr>\n",
       "      <th>002326a7a9e649b172765be1fe733826d7995461</th>\n",
       "      <td>500</td>\n",
       "      <td>0.008</td>\n",
       "      <td>0.088691</td>\n",
       "      <td>0.363636</td>\n",
       "      <td>10</td>\n",
       "      <td>561.432177</td>\n",
       "      <td>1650.955631</td>\n",
       "    </tr>\n",
       "    <tr>\n",
       "      <th>002d1f1a39282b2875c08587379d9acf41866d57</th>\n",
       "      <td>500</td>\n",
       "      <td>0.014</td>\n",
       "      <td>0.105387</td>\n",
       "      <td>0.411765</td>\n",
       "      <td>10</td>\n",
       "      <td>561.432177</td>\n",
       "      <td>1650.955631</td>\n",
       "    </tr>\n",
       "  </tbody>\n",
       "</table>\n",
       "</div>"
      ],
      "text/plain": [
       "                                                nrecs  precision      ndcg  \\\n",
       "RunId user                                                                   \n",
       "1     0007140a3796e901f3190f12e9de6d7548d4ac4a    500      0.006  0.043436   \n",
       "      000b22f91d4992dba3a80025493059f972a7850e    500      0.000  0.000000   \n",
       "      001eed159e8a038e5c5c63fe439ea5acead124f4    500      0.012  0.283271   \n",
       "      002326a7a9e649b172765be1fe733826d7995461    500      0.008  0.088691   \n",
       "      002d1f1a39282b2875c08587379d9acf41866d57    500      0.014  0.105387   \n",
       "\n",
       "                                                  recall  features  \\\n",
       "RunId user                                                           \n",
       "1     0007140a3796e901f3190f12e9de6d7548d4ac4a  0.157895        10   \n",
       "      000b22f91d4992dba3a80025493059f972a7850e  0.000000        10   \n",
       "      001eed159e8a038e5c5c63fe439ea5acead124f4  1.000000        10   \n",
       "      002326a7a9e649b172765be1fe733826d7995461  0.363636        10   \n",
       "      002d1f1a39282b2875c08587379d9acf41866d57  0.411765        10   \n",
       "\n",
       "                                                 TrainTime      RecTime  \n",
       "RunId user                                                               \n",
       "1     0007140a3796e901f3190f12e9de6d7548d4ac4a  561.432177  1650.955631  \n",
       "      000b22f91d4992dba3a80025493059f972a7850e  561.432177  1650.955631  \n",
       "      001eed159e8a038e5c5c63fe439ea5acead124f4  561.432177  1650.955631  \n",
       "      002326a7a9e649b172765be1fe733826d7995461  561.432177  1650.955631  \n",
       "      002d1f1a39282b2875c08587379d9acf41866d57  561.432177  1650.955631  "
      ]
     },
     "execution_count": 66,
     "metadata": {},
     "output_type": "execute_result"
    }
   ],
   "source": [
    "rla = topn.RecListAnalysis()\n",
    "rla.add_metric(precision, k=500)\n",
    "rla.add_metric(ndcg, k=500)\n",
    "rla.add_metric(recall, k=500)\n",
    "\n",
    "raw_metrics = rla.compute(recs_test, df_test,  include_missing=False)\n",
    "raw_metrics = raw_metrics.join(runs_test[['features', 'TrainTime', 'RecTime']], on='RunId')\n",
    "raw_metrics.head()"
   ]
  },
  {
   "cell_type": "code",
   "execution_count": 67,
   "id": "conditional-review",
   "metadata": {},
   "outputs": [
    {
     "data": {
      "text/html": [
       "<div>\n",
       "<style scoped>\n",
       "    .dataframe tbody tr th:only-of-type {\n",
       "        vertical-align: middle;\n",
       "    }\n",
       "\n",
       "    .dataframe tbody tr th {\n",
       "        vertical-align: top;\n",
       "    }\n",
       "\n",
       "    .dataframe thead th {\n",
       "        text-align: right;\n",
       "    }\n",
       "</style>\n",
       "<table border=\"1\" class=\"dataframe\">\n",
       "  <thead>\n",
       "    <tr style=\"text-align: right;\">\n",
       "      <th></th>\n",
       "      <th></th>\n",
       "      <th>nrecs</th>\n",
       "      <th>precision</th>\n",
       "      <th>ndcg</th>\n",
       "      <th>recall</th>\n",
       "      <th>features</th>\n",
       "      <th>TrainTime</th>\n",
       "      <th>RecTime</th>\n",
       "    </tr>\n",
       "    <tr>\n",
       "      <th>RunId</th>\n",
       "      <th>user</th>\n",
       "      <th></th>\n",
       "      <th></th>\n",
       "      <th></th>\n",
       "      <th></th>\n",
       "      <th></th>\n",
       "      <th></th>\n",
       "      <th></th>\n",
       "    </tr>\n",
       "  </thead>\n",
       "  <tbody>\n",
       "    <tr>\n",
       "      <th rowspan=\"5\" valign=\"top\">1</th>\n",
       "      <th>0007140a3796e901f3190f12e9de6d7548d4ac4a</th>\n",
       "      <td>500</td>\n",
       "      <td>0.006</td>\n",
       "      <td>0.043436</td>\n",
       "      <td>0.157895</td>\n",
       "      <td>10</td>\n",
       "      <td>561.432177</td>\n",
       "      <td>1650.955631</td>\n",
       "    </tr>\n",
       "    <tr>\n",
       "      <th>000b22f91d4992dba3a80025493059f972a7850e</th>\n",
       "      <td>500</td>\n",
       "      <td>0.000</td>\n",
       "      <td>0.000000</td>\n",
       "      <td>0.000000</td>\n",
       "      <td>10</td>\n",
       "      <td>561.432177</td>\n",
       "      <td>1650.955631</td>\n",
       "    </tr>\n",
       "    <tr>\n",
       "      <th>001eed159e8a038e5c5c63fe439ea5acead124f4</th>\n",
       "      <td>500</td>\n",
       "      <td>0.012</td>\n",
       "      <td>0.283271</td>\n",
       "      <td>1.000000</td>\n",
       "      <td>10</td>\n",
       "      <td>561.432177</td>\n",
       "      <td>1650.955631</td>\n",
       "    </tr>\n",
       "    <tr>\n",
       "      <th>002326a7a9e649b172765be1fe733826d7995461</th>\n",
       "      <td>500</td>\n",
       "      <td>0.008</td>\n",
       "      <td>0.088691</td>\n",
       "      <td>0.363636</td>\n",
       "      <td>10</td>\n",
       "      <td>561.432177</td>\n",
       "      <td>1650.955631</td>\n",
       "    </tr>\n",
       "    <tr>\n",
       "      <th>002d1f1a39282b2875c08587379d9acf41866d57</th>\n",
       "      <td>500</td>\n",
       "      <td>0.014</td>\n",
       "      <td>0.105387</td>\n",
       "      <td>0.411765</td>\n",
       "      <td>10</td>\n",
       "      <td>561.432177</td>\n",
       "      <td>1650.955631</td>\n",
       "    </tr>\n",
       "  </tbody>\n",
       "</table>\n",
       "</div>"
      ],
      "text/plain": [
       "                                                nrecs  precision      ndcg  \\\n",
       "RunId user                                                                   \n",
       "1     0007140a3796e901f3190f12e9de6d7548d4ac4a    500      0.006  0.043436   \n",
       "      000b22f91d4992dba3a80025493059f972a7850e    500      0.000  0.000000   \n",
       "      001eed159e8a038e5c5c63fe439ea5acead124f4    500      0.012  0.283271   \n",
       "      002326a7a9e649b172765be1fe733826d7995461    500      0.008  0.088691   \n",
       "      002d1f1a39282b2875c08587379d9acf41866d57    500      0.014  0.105387   \n",
       "\n",
       "                                                  recall  features  \\\n",
       "RunId user                                                           \n",
       "1     0007140a3796e901f3190f12e9de6d7548d4ac4a  0.157895        10   \n",
       "      000b22f91d4992dba3a80025493059f972a7850e  0.000000        10   \n",
       "      001eed159e8a038e5c5c63fe439ea5acead124f4  1.000000        10   \n",
       "      002326a7a9e649b172765be1fe733826d7995461  0.363636        10   \n",
       "      002d1f1a39282b2875c08587379d9acf41866d57  0.411765        10   \n",
       "\n",
       "                                                 TrainTime      RecTime  \n",
       "RunId user                                                               \n",
       "1     0007140a3796e901f3190f12e9de6d7548d4ac4a  561.432177  1650.955631  \n",
       "      000b22f91d4992dba3a80025493059f972a7850e  561.432177  1650.955631  \n",
       "      001eed159e8a038e5c5c63fe439ea5acead124f4  561.432177  1650.955631  \n",
       "      002326a7a9e649b172765be1fe733826d7995461  561.432177  1650.955631  \n",
       "      002d1f1a39282b2875c08587379d9acf41866d57  561.432177  1650.955631  "
      ]
     },
     "execution_count": 67,
     "metadata": {},
     "output_type": "execute_result"
    }
   ],
   "source": [
    "rla = topn.RecListAnalysis()\n",
    "rla.add_metric(precision, k=500)\n",
    "rla.add_metric(ndcg, k=500)\n",
    "rla.add_metric(recall, k=500)\n",
    "\n",
    "raw_metrics = rla.compute(recs_test, df_test,  include_missing=False)\n",
    "raw_metrics = raw_metrics.join(runs_test[['features', 'TrainTime', 'RecTime']], on='RunId')\n",
    "raw_metrics.head()"
   ]
  },
  {
   "cell_type": "code",
   "execution_count": 68,
   "id": "equivalent-abraham",
   "metadata": {},
   "outputs": [
    {
     "data": {
      "text/html": [
       "<div>\n",
       "<style scoped>\n",
       "    .dataframe tbody tr th:only-of-type {\n",
       "        vertical-align: middle;\n",
       "    }\n",
       "\n",
       "    .dataframe tbody tr th {\n",
       "        vertical-align: top;\n",
       "    }\n",
       "\n",
       "    .dataframe thead th {\n",
       "        text-align: right;\n",
       "    }\n",
       "</style>\n",
       "<table border=\"1\" class=\"dataframe\">\n",
       "  <thead>\n",
       "    <tr style=\"text-align: right;\">\n",
       "      <th></th>\n",
       "      <th>features</th>\n",
       "      <th>nrecs</th>\n",
       "      <th>precision</th>\n",
       "      <th>ndcg</th>\n",
       "      <th>recall</th>\n",
       "      <th>TrainTime</th>\n",
       "      <th>RecTime</th>\n",
       "    </tr>\n",
       "  </thead>\n",
       "  <tbody>\n",
       "    <tr>\n",
       "      <th>0</th>\n",
       "      <td>10</td>\n",
       "      <td>500</td>\n",
       "      <td>0.008372</td>\n",
       "      <td>0.131204</td>\n",
       "      <td>0.324212</td>\n",
       "      <td>561.432177</td>\n",
       "      <td>1650.955631</td>\n",
       "    </tr>\n",
       "    <tr>\n",
       "      <th>1</th>\n",
       "      <td>20</td>\n",
       "      <td>500</td>\n",
       "      <td>0.009588</td>\n",
       "      <td>0.154085</td>\n",
       "      <td>0.367449</td>\n",
       "      <td>572.794609</td>\n",
       "      <td>1634.182680</td>\n",
       "    </tr>\n",
       "    <tr>\n",
       "      <th>2</th>\n",
       "      <td>50</td>\n",
       "      <td>500</td>\n",
       "      <td>0.011016</td>\n",
       "      <td>0.184344</td>\n",
       "      <td>0.416801</td>\n",
       "      <td>854.963907</td>\n",
       "      <td>2058.651239</td>\n",
       "    </tr>\n",
       "    <tr>\n",
       "      <th>3</th>\n",
       "      <td>100</td>\n",
       "      <td>500</td>\n",
       "      <td>0.012154</td>\n",
       "      <td>0.208376</td>\n",
       "      <td>0.454509</td>\n",
       "      <td>1319.579091</td>\n",
       "      <td>2640.018421</td>\n",
       "    </tr>\n",
       "  </tbody>\n",
       "</table>\n",
       "</div>"
      ],
      "text/plain": [
       "   features  nrecs  precision      ndcg    recall    TrainTime      RecTime\n",
       "0        10    500   0.008372  0.131204  0.324212   561.432177  1650.955631\n",
       "1        20    500   0.009588  0.154085  0.367449   572.794609  1634.182680\n",
       "2        50    500   0.011016  0.184344  0.416801   854.963907  2058.651239\n",
       "3       100    500   0.012154  0.208376  0.454509  1319.579091  2640.018421"
      ]
     },
     "execution_count": 68,
     "metadata": {},
     "output_type": "execute_result"
    }
   ],
   "source": [
    "metrics = raw_metrics.fillna(0).groupby(['features']).mean().reset_index()\n",
    "metrics"
   ]
  },
  {
   "cell_type": "markdown",
   "id": "super-consultancy",
   "metadata": {},
   "source": [
    "## Maunally calculate MAP"
   ]
  },
  {
   "cell_type": "code",
   "execution_count": 62,
   "id": "equipped-boundary",
   "metadata": {},
   "outputs": [
    {
     "name": "stdout",
     "output_type": "stream",
     "text": [
      "MAP@499 = [0.01702445 0.02030719 0.02475785 0.02868792]\n",
      "took 5993.779403 s\n"
     ]
    }
   ],
   "source": [
    "start = time.time()\n",
    "AP = np.zeros([4,500])\n",
    "for k in range(500):\n",
    "    rla_map = topn.RecListAnalysis()\n",
    "    rla_map.add_metric(precision, k=k)\n",
    "    raw_metrics_map = rla_map.compute(recs_test, df_test, include_missing=False)\n",
    "    metrics_map = raw_metrics_map.drop(columns=['nrecs']).fillna(0).groupby(['RunId']).mean()\n",
    "    metrics_map = metrics_map['precision']\n",
    "    for i in range(4):\n",
    "        AP[i,k] = metrics_map[i+1]\n",
    "\n",
    "MAP = np.mean(AP, axis=1)\n",
    "print(f'MAP@{k} = {MAP}')\n",
    "print('took %f s'%(time.time()-start))"
   ]
  },
  {
   "cell_type": "markdown",
   "id": "neutral-turner",
   "metadata": {},
   "source": [
    "### Plot the result vs rank"
   ]
  },
  {
   "cell_type": "code",
   "execution_count": 77,
   "id": "animal-given",
   "metadata": {},
   "outputs": [
    {
     "data": {
      "image/png": "[encoded data removed]",
      "text/plain": [
       "<Figure size 720x504 with 1 Axes>"
      ]
     },
     "metadata": {
      "needs_background": "light"
     },
     "output_type": "display_data"
    }
   ],
   "source": [
    "fig, ax = plt.subplots(figsize=[10,7])\n",
    "\n",
    "ax.set_xlabel('Rank', fontsize = 16)\n",
    "ax.set_ylabel('score', fontsize = 16)\n",
    "ax.set_yscale('logit')\n",
    "\n",
    "for method in ['ndcg', 'precision', 'map']:\n",
    "    if method == 'map':\n",
    "        score = MAP\n",
    "    else:\n",
    "        score = metrics[method]\n",
    "\n",
    "    ax.plot(feature_set, score, '--x', label=f'{method}@500')\n",
    "    ax.legend(prop={'size': 14})\n",
    "\n",
    "plt.savefig('../figures/lenskit-rank.png')\n",
    "plt.show()"
   ]
  },
  {
   "cell_type": "code",
   "execution_count": 58,
   "id": "ahead-accident",
   "metadata": {},
   "outputs": [
    {
     "data": {
      "image/png": "[encoded data removed]",
      "text/plain": [
       "<Figure size 720x504 with 1 Axes>"
      ]
     },
     "metadata": {
      "needs_background": "light"
     },
     "output_type": "display_data"
    }
   ],
   "source": [
    "fig, ax = plt.subplots(figsize=[10,7])\n",
    "\n",
    "ax.set_title('Performance vs Rank', fontsize = 14)\n",
    "\n",
    "ax.set_xlabel('Rank', fontsize = 12)\n",
    "ax.set_ylabel('score', fontsize = 12)\n",
    "ax.set_yscale('logit')\n",
    "\n",
    "for method in ['ndcg', 'precision', 'recall']:\n",
    "    score = metrics[method]\n",
    "\n",
    "    ax.plot(feature_set, score, '--x', label=f'{method}@500')\n",
    "    ax.legend(prop={'size': 12})\n",
    "\n",
    "plt.savefig('../figures/lenskit-rank.png')\n",
    "plt.show()"
   ]
  },
  {
   "cell_type": "markdown",
   "id": "technological-statistics",
   "metadata": {},
   "source": [
    "### Plot the result vs time"
   ]
  },
  {
   "cell_type": "code",
   "execution_count": 35,
   "id": "floppy-dynamics",
   "metadata": {},
   "outputs": [],
   "source": [
    "runtime = metrics['TrainTime'] + metrics['RecTime']"
   ]
  },
  {
   "cell_type": "code",
   "execution_count": 59,
   "id": "swedish-medicine",
   "metadata": {},
   "outputs": [
    {
     "data": {
      "image/png": "[encoded data removed]",
      "text/plain": [
       "<Figure size 720x504 with 1 Axes>"
      ]
     },
     "metadata": {
      "needs_background": "light"
     },
     "output_type": "display_data"
    }
   ],
   "source": [
    "fig, ax = plt.subplots(figsize=[10,7])\n",
    "\n",
    "ax.set_title('Performance vs Time Comsumption (seconds)', fontsize = 14)\n",
    "\n",
    "ax.set_xlabel('runtime (secs)', fontsize = 12)\n",
    "ax.set_ylabel('score', fontsize = 12)\n",
    "ax.set_yscale('logit')\n",
    "\n",
    "for method in ['ndcg', 'precision', 'recall']:\n",
    "    score = metrics[method]\n",
    "\n",
    "    ax.plot(runtime, score, '--x', label=f'{method}@500')\n",
    "    ax.legend(prop={'size': 12})\n",
    "\n",
    "plt.savefig('../figures/lenkit-time.png')\n",
    "plt.show()"
   ]
  },
  {
   "cell_type": "code",
   "execution_count": null,
   "id": "familiar-timothy",
   "metadata": {},
   "outputs": [],
   "source": []
  }
 ],
 "metadata": {
  "kernelspec": {
   "display_name": "Python 3",
   "language": "python",
   "name": "python3"
  },
  "language_info": {
   "codemirror_mode": {
    "name": "ipython",
    "version": 3
   },
   "file_extension": ".py",
   "mimetype": "text/x-python",
   "name": "python",
   "nbconvert_exporter": "python",
   "pygments_lexer": "ipython3",
   "version": "3.8.5"
  }
 },
 "nbformat": 4,
 "nbformat_minor": 5
}
