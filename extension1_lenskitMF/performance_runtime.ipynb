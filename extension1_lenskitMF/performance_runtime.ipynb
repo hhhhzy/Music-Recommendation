{
 "cells": [
  {
   "cell_type": "markdown",
   "id": "smoking-grenada",
   "metadata": {},
   "source": [
    "## Setting up environment"
   ]
  },
  {
   "cell_type": "code",
   "execution_count": 4,
   "id": "played-simple",
   "metadata": {
    "tags": []
   },
   "outputs": [],
   "source": [
    "import os\n",
    "from glob import glob\n",
    "\n",
    "import dask\n",
    "import dask.bag as db\n",
    "import dask.dataframe as dd\n",
    "from distributed import Client\n",
    "from dask_jobqueue import SLURMCluster\n",
    "\n",
    "from IPython.display import display\n",
    "import matplotlib.pyplot as plt\n",
    "\n",
    "import logging\n",
    "import pickle\n",
    "\n",
    "from lenskit.batch import MultiEval, predict, recommend\n",
    "from lenskit.crossfold import partition_users, SampleN\n",
    "from lenskit.algorithms import basic, als, svd, bias\n",
    "from lenskit import topn, util, Recommender, batch\n",
    "from lenskit.topn import precision, ndcg, recall\n",
    "\n",
    "import pandas as pd\n",
    "import numpy as np\n",
    "from scipy import stats\n",
    "import binpickle\n",
    "\n",
    "import argparse\n",
    "import time\n",
    "\n",
    "from tqdm.auto import tqdm"
   ]
  },
  {
   "cell_type": "code",
   "execution_count": 2,
   "id": "apart-newspaper",
   "metadata": {
    "tags": []
   },
   "outputs": [
    {
     "data": {
      "text/html": [
       "<table style=\"border: 2px solid white;\">\n",
       "<tr>\n",
       "<td style=\"vertical-align: top; border: 0px solid white\">\n",
       "<h3 style=\"text-align: left;\">Client</h3>\n",
       "<ul style=\"text-align: left; list-style: none; margin: 0; padding: 0;\">\n",
       "  <li><b>Scheduler: </b>tcp://127.0.0.1:44089</li>\n",
       "  <li><b>Dashboard: </b><a href='http://127.0.0.1:8787/status' target='_blank'>http://127.0.0.1:8787/status</a></li>\n",
       "</ul>\n",
       "</td>\n",
       "<td style=\"vertical-align: top; border: 0px solid white\">\n",
       "<h3 style=\"text-align: left;\">Cluster</h3>\n",
       "<ul style=\"text-align: left; list-style:none; margin: 0; padding: 0;\">\n",
       "  <li><b>Workers: </b>1</li>\n",
       "  <li><b>Cores: </b>1</li>\n",
       "  <li><b>Memory: </b>17.18 GB</li>\n",
       "</ul>\n",
       "</td>\n",
       "</tr>\n",
       "</table>"
      ],
      "text/plain": [
       "<Client: 'tcp://127.0.0.1:44089' processes=1 threads=1, memory=17.18 GB>"
      ]
     },
     "metadata": {},
     "output_type": "display_data"
    }
   ],
   "source": [
    "# Set LOCAL to True for single-machine execution while developing\n",
    "# Set LOCAL to False for cluster execution\n",
    "LOCAL = True\n",
    "\n",
    "if LOCAL:\n",
    "    # This line creates a single-machine dask client\n",
    "    client = Client()\n",
    "else:    \n",
    "    # This line creates a SLURM cluster dask and dask client\n",
    "    # Logging outputs will be stored in /scratch/{your-netid}\n",
    "    \n",
    "    cluster = SLURMCluster(memory='4GB', cores=2, python='/scratch/work/public/dask/bin/python', \n",
    "                               local_directory='/tmp/{}/'.format(os.environ['SLURM_JOB_USER']),\n",
    "                               job_extra=['--output=/scratch/{}/slurm-%j.out'.format(os.environ['SLURM_JOB_USER'])])\n",
    "\n",
    "    cluster.submit_command = 'slurm'\n",
    "    cluster.scale(100)\n",
    "\n",
    "    display(cluster)\n",
    "    client = Client(cluster)\n",
    "\n",
    "display(client)"
   ]
  },
  {
   "cell_type": "markdown",
   "id": "certain-kelly",
   "metadata": {},
   "source": [
    "## Load data"
   ]
  },
  {
   "cell_type": "code",
   "execution_count": 15,
   "id": "strong-norfolk",
   "metadata": {},
   "outputs": [],
   "source": [
    "# choose the top-t subsample to test\n",
    "t = 10000"
   ]
  },
  {
   "cell_type": "code",
   "execution_count": 16,
   "id": "answering-principle",
   "metadata": {},
   "outputs": [],
   "source": [
    "if t == 10:\n",
    "    train_dir = '/scratch/zh2095/quarantini/cf_train_subtrain_top10_1004.parquet'\n",
    "    test_dir = '/scratch/zh2095/quarantini/cf_train_subval_top10_1004.parquet'\n",
    "elif t == 100:\n",
    "    train_dir = '/scratch/zh2095/quarantini/cf_train_subtrain_top100_1004.parquet'\n",
    "    test_dir = '/scratch/zh2095/quarantini/cf_train_subval_top100_1004.parquet'\n",
    "elif t == 1000:\n",
    "    train_dir = '/scratch/zh2095/quarantini/cf_train_subtrain_top1000_1004.parquet'\n",
    "    test_dir = '/scratch/zh2095/quarantini/cf_train_subval_top1000_1004.parquet'\n",
    "elif t == 10000:\n",
    "    train_dir = '/scratch/zh2095/quarantini/cf_train_subtrain_top10000_1004.parquet'\n",
    "    test_dir = '/scratch/zh2095/quarantini/cf_train_subval_top10000_1004.parquet'"
   ]
  },
  {
   "cell_type": "code",
   "execution_count": 17,
   "id": "instructional-karaoke",
   "metadata": {},
   "outputs": [],
   "source": [
    "df_train = pd.read_parquet(train_dir)\n",
    "df_test = pd.read_parquet(test_dir)"
   ]
  },
  {
   "cell_type": "code",
   "execution_count": 98,
   "id": "excess-librarian",
   "metadata": {},
   "outputs": [],
   "source": [
    "df_train.drop(columns=['__index_level_0__'], inplace=True)\n",
    "df_test.drop(columns=['__index_level_0__'], inplace=True)\n",
    "df_train.rename(columns = {'user_id':'user', 'track_id':'item', 'count':'rating'}, inplace = True)\n",
    "df_test.rename(columns = {'user_id':'user', 'track_id':'item', 'count':'rating'}, inplace = True)"
   ]
  },
  {
   "cell_type": "code",
   "execution_count": 18,
   "id": "expected-death",
   "metadata": {},
   "outputs": [
    {
     "data": {
      "text/html": [
       "<div>\n",
       "<style scoped>\n",
       "    .dataframe tbody tr th:only-of-type {\n",
       "        vertical-align: middle;\n",
       "    }\n",
       "\n",
       "    .dataframe tbody tr th {\n",
       "        vertical-align: top;\n",
       "    }\n",
       "\n",
       "    .dataframe thead th {\n",
       "        text-align: right;\n",
       "    }\n",
       "</style>\n",
       "<table border=\"1\" class=\"dataframe\">\n",
       "  <thead>\n",
       "    <tr style=\"text-align: right;\">\n",
       "      <th></th>\n",
       "      <th>user_id</th>\n",
       "      <th>count</th>\n",
       "      <th>track_id</th>\n",
       "      <th>__index_level_0__</th>\n",
       "      <th>user_id_index</th>\n",
       "      <th>track_id_index</th>\n",
       "    </tr>\n",
       "  </thead>\n",
       "  <tbody>\n",
       "    <tr>\n",
       "      <th>0</th>\n",
       "      <td>00043d7bc800ceff4a90459e189eba5d442a1d3d</td>\n",
       "      <td>1</td>\n",
       "      <td>TRAAPNM128F4280813</td>\n",
       "      <td>11406638</td>\n",
       "      <td>5905</td>\n",
       "      <td>21705</td>\n",
       "    </tr>\n",
       "    <tr>\n",
       "      <th>1</th>\n",
       "      <td>00043d7bc800ceff4a90459e189eba5d442a1d3d</td>\n",
       "      <td>1</td>\n",
       "      <td>TRAERCP12903CF1368</td>\n",
       "      <td>11406630</td>\n",
       "      <td>5905</td>\n",
       "      <td>47212</td>\n",
       "    </tr>\n",
       "    <tr>\n",
       "      <th>2</th>\n",
       "      <td>00043d7bc800ceff4a90459e189eba5d442a1d3d</td>\n",
       "      <td>1</td>\n",
       "      <td>TRAJSQT128EF34334B</td>\n",
       "      <td>11406814</td>\n",
       "      <td>5905</td>\n",
       "      <td>37714</td>\n",
       "    </tr>\n",
       "    <tr>\n",
       "      <th>3</th>\n",
       "      <td>00043d7bc800ceff4a90459e189eba5d442a1d3d</td>\n",
       "      <td>1</td>\n",
       "      <td>TRAOWBP128F4257C64</td>\n",
       "      <td>11406915</td>\n",
       "      <td>5905</td>\n",
       "      <td>5739</td>\n",
       "    </tr>\n",
       "    <tr>\n",
       "      <th>4</th>\n",
       "      <td>00043d7bc800ceff4a90459e189eba5d442a1d3d</td>\n",
       "      <td>1</td>\n",
       "      <td>TRATNYA12903CD684E</td>\n",
       "      <td>11406829</td>\n",
       "      <td>5905</td>\n",
       "      <td>28408</td>\n",
       "    </tr>\n",
       "    <tr>\n",
       "      <th>...</th>\n",
       "      <td>...</td>\n",
       "      <td>...</td>\n",
       "      <td>...</td>\n",
       "      <td>...</td>\n",
       "      <td>...</td>\n",
       "      <td>...</td>\n",
       "    </tr>\n",
       "    <tr>\n",
       "      <th>3215104</th>\n",
       "      <td>fffc0df75a48d823ad5abfaf2a1ee61eb1e3302c</td>\n",
       "      <td>9</td>\n",
       "      <td>TRIFVDW128F4279DE0</td>\n",
       "      <td>1970006</td>\n",
       "      <td>5610</td>\n",
       "      <td>705</td>\n",
       "    </tr>\n",
       "    <tr>\n",
       "      <th>3215105</th>\n",
       "      <td>fffc0df75a48d823ad5abfaf2a1ee61eb1e3302c</td>\n",
       "      <td>9</td>\n",
       "      <td>TRIJMQZ128F14683A9</td>\n",
       "      <td>1970101</td>\n",
       "      <td>5610</td>\n",
       "      <td>9324</td>\n",
       "    </tr>\n",
       "    <tr>\n",
       "      <th>3215106</th>\n",
       "      <td>fffc0df75a48d823ad5abfaf2a1ee61eb1e3302c</td>\n",
       "      <td>9</td>\n",
       "      <td>TRIXPPS12903CE26B1</td>\n",
       "      <td>1970124</td>\n",
       "      <td>5610</td>\n",
       "      <td>8084</td>\n",
       "    </tr>\n",
       "    <tr>\n",
       "      <th>3215107</th>\n",
       "      <td>fffc0df75a48d823ad5abfaf2a1ee61eb1e3302c</td>\n",
       "      <td>10</td>\n",
       "      <td>TRNQBVT128F931E01D</td>\n",
       "      <td>1970133</td>\n",
       "      <td>5610</td>\n",
       "      <td>2690</td>\n",
       "    </tr>\n",
       "    <tr>\n",
       "      <th>3215108</th>\n",
       "      <td>fffc0df75a48d823ad5abfaf2a1ee61eb1e3302c</td>\n",
       "      <td>18</td>\n",
       "      <td>TRJTORJ128F422EE33</td>\n",
       "      <td>1970154</td>\n",
       "      <td>5610</td>\n",
       "      <td>5888</td>\n",
       "    </tr>\n",
       "  </tbody>\n",
       "</table>\n",
       "<p>3215109 rows × 6 columns</p>\n",
       "</div>"
      ],
      "text/plain": [
       "                                          user_id  count            track_id  \\\n",
       "0        00043d7bc800ceff4a90459e189eba5d442a1d3d      1  TRAAPNM128F4280813   \n",
       "1        00043d7bc800ceff4a90459e189eba5d442a1d3d      1  TRAERCP12903CF1368   \n",
       "2        00043d7bc800ceff4a90459e189eba5d442a1d3d      1  TRAJSQT128EF34334B   \n",
       "3        00043d7bc800ceff4a90459e189eba5d442a1d3d      1  TRAOWBP128F4257C64   \n",
       "4        00043d7bc800ceff4a90459e189eba5d442a1d3d      1  TRATNYA12903CD684E   \n",
       "...                                           ...    ...                 ...   \n",
       "3215104  fffc0df75a48d823ad5abfaf2a1ee61eb1e3302c      9  TRIFVDW128F4279DE0   \n",
       "3215105  fffc0df75a48d823ad5abfaf2a1ee61eb1e3302c      9  TRIJMQZ128F14683A9   \n",
       "3215106  fffc0df75a48d823ad5abfaf2a1ee61eb1e3302c      9  TRIXPPS12903CE26B1   \n",
       "3215107  fffc0df75a48d823ad5abfaf2a1ee61eb1e3302c     10  TRNQBVT128F931E01D   \n",
       "3215108  fffc0df75a48d823ad5abfaf2a1ee61eb1e3302c     18  TRJTORJ128F422EE33   \n",
       "\n",
       "         __index_level_0__  user_id_index  track_id_index  \n",
       "0                 11406638           5905           21705  \n",
       "1                 11406630           5905           47212  \n",
       "2                 11406814           5905           37714  \n",
       "3                 11406915           5905            5739  \n",
       "4                 11406829           5905           28408  \n",
       "...                    ...            ...             ...  \n",
       "3215104            1970006           5610             705  \n",
       "3215105            1970101           5610            9324  \n",
       "3215106            1970124           5610            8084  \n",
       "3215107            1970133           5610            2690  \n",
       "3215108            1970154           5610            5888  \n",
       "\n",
       "[3215109 rows x 6 columns]"
      ]
     },
     "execution_count": 18,
     "metadata": {},
     "output_type": "execute_result"
    }
   ],
   "source": [
    "df_train"
   ]
  },
  {
   "cell_type": "markdown",
   "id": "confidential-biology",
   "metadata": {},
   "source": [
    "## Test Performance and Runtime"
   ]
  },
  {
   "cell_type": "code",
   "execution_count": 100,
   "id": "marine-mobility",
   "metadata": {
    "tags": []
   },
   "outputs": [],
   "source": [
    "# best configuration\n",
    "best_features = 100\n",
    "best_reg = 1\n",
    "best_weight = 10\n",
    "iterations = 20\n",
    "use_ratings = True\n",
    "\n",
    "data = (df_train, df_test)"
   ]
  },
  {
   "cell_type": "code",
   "execution_count": 101,
   "id": "phantom-modern",
   "metadata": {},
   "outputs": [
    {
     "name": "stderr",
     "output_type": "stream",
     "text": [
      "initializing deprecated MultiEval\n"
     ]
    },
    {
     "data": {
      "application/vnd.jupyter.widget-view+json": {
       "model_id": "6962257e3cc8457c98c336e97d9f40cf",
       "version_major": 2,
       "version_minor": 0
      },
      "text/plain": [
       "  0%|          | 0/1 [00:00<?, ?it/s]"
      ]
     },
     "metadata": {},
     "output_type": "display_data"
    },
    {
     "data": {
      "application/vnd.jupyter.widget-view+json": {
       "model_id": "",
       "version_major": 2,
       "version_minor": 0
      },
      "text/plain": [
       "ImplicitMF:   0%|          | 0/20 [00:00<?, ?it/s]"
      ]
     },
     "metadata": {},
     "output_type": "display_data"
    }
   ],
   "source": [
    "eval = MultiEval('my-test', recommend=500, save_models=False)  #set save_models=True when running on the full dataset\n",
    "eval.add_datasets(data, name='Song')   \n",
    "\n",
    "best_mdl = [als.ImplicitMF(features=best_features, iterations=iterations, reg=best_reg, \n",
    "                           use_ratings = use_ratings, weight=best_weight, method='cg', progress=tqdm)]\n",
    "eval.add_algorithms(best_mdl, attrs=['features'], name='ImplicitMF')\n",
    "\n",
    "eval.run(progress = tqdm)"
   ]
  },
  {
   "cell_type": "code",
   "execution_count": 102,
   "id": "worse-coverage",
   "metadata": {},
   "outputs": [],
   "source": [
    "recs_test = pd.read_parquet('my-test/recommendations.parquet')"
   ]
  },
  {
   "cell_type": "code",
   "execution_count": 103,
   "id": "academic-protein",
   "metadata": {
    "tags": []
   },
   "outputs": [],
   "source": [
    "rla = topn.RecListAnalysis()\n",
    "# rla.add_metric(topn.ndcg)\n",
    "# rla.add_metric(topn.recall)\n",
    "rla.add_metric(precision, k=500)\n",
    "rla.add_metric(ndcg, k=500)\n",
    "rla.add_metric(recall, k=500)\n",
    "\n",
    "raw_metrics_test = rla.compute(recs_test, df_test, include_missing=False)"
   ]
  },
  {
   "cell_type": "code",
   "execution_count": 104,
   "id": "refined-occasions",
   "metadata": {},
   "outputs": [
    {
     "data": {
      "text/plain": [
       "precision    0.055451\n",
       "ndcg         0.220240\n",
       "recall       0.353165\n",
       "dtype: float64"
      ]
     },
     "execution_count": 104,
     "metadata": {},
     "output_type": "execute_result"
    }
   ],
   "source": [
    "metrics_test = raw_metrics_test.drop(columns=['nrecs']).fillna(0).mean()\n",
    "metrics_test"
   ]
  },
  {
   "cell_type": "markdown",
   "id": "daily-opposition",
   "metadata": {},
   "source": [
    "## Test the time to fit model"
   ]
  },
  {
   "cell_type": "code",
   "execution_count": 92,
   "id": "vocal-september",
   "metadata": {},
   "outputs": [],
   "source": [
    "users = df_train['user'].unique()"
   ]
  },
  {
   "cell_type": "code",
   "execution_count": 93,
   "id": "legitimate-theology",
   "metadata": {},
   "outputs": [],
   "source": [
    "ALS = als.ImplicitMF(features=best_features, iterations=iterations, reg=best_reg, \n",
    "                           use_ratings = use_ratings, weight=best_weight, method='cg', progress=tqdm)"
   ]
  },
  {
   "cell_type": "code",
   "execution_count": 51,
   "id": "worthy-windows",
   "metadata": {},
   "outputs": [
    {
     "data": {
      "text/plain": [
       "<lenskit.algorithms.ranking.TopN at 0x14debecaf7c0>"
      ]
     },
     "execution_count": 51,
     "metadata": {},
     "output_type": "execute_result"
    }
   ],
   "source": [
    "Recommender.adapt(ALS)"
   ]
  },
  {
   "cell_type": "code",
   "execution_count": 94,
   "id": "ongoing-roman",
   "metadata": {},
   "outputs": [
    {
     "data": {
      "application/vnd.jupyter.widget-view+json": {
       "model_id": "",
       "version_major": 2,
       "version_minor": 0
      },
      "text/plain": [
       "ImplicitMF:   0%|          | 0/20 [00:00<?, ?it/s]"
      ]
     },
     "metadata": {},
     "output_type": "display_data"
    },
    {
     "name": "stdout",
     "output_type": "stream",
     "text": [
      "took 25.439674 s\n"
     ]
    }
   ],
   "source": [
    "start = time.time()\n",
    "\n",
    "ALS.fit(df_train)\n",
    "\n",
    "print('took %f s'%(time.time()-start))"
   ]
  },
  {
   "cell_type": "code",
   "execution_count": null,
   "id": "accomplished-determination",
   "metadata": {},
   "outputs": [],
   "source": []
  }
 ],
 "metadata": {
  "kernelspec": {
   "display_name": "Python 3",
   "language": "python",
   "name": "python3"
  },
  "language_info": {
   "codemirror_mode": {
    "name": "ipython",
    "version": 3
   },
   "file_extension": ".py",
   "mimetype": "text/x-python",
   "name": "python",
   "nbconvert_exporter": "python",
   "pygments_lexer": "ipython3",
   "version": "3.8.5"
  }
 },
 "nbformat": 4,
 "nbformat_minor": 5
}
